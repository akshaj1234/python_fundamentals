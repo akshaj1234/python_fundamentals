{
 "cells": [
  {
   "cell_type": "code",
   "execution_count": null,
   "metadata": {},
   "outputs": [],
   "source": [
    "introduction to for loops"
   ]
  },
  {
   "cell_type": "code",
   "execution_count": null,
   "metadata": {},
   "outputs": [],
   "source": []
  },
  {
   "cell_type": "code",
   "execution_count": 5,
   "metadata": {},
   "outputs": [],
   "source": [
    "my_students=['devi','rama','raju','abhi','vijay','satya','malvika']"
   ]
  },
  {
   "cell_type": "code",
   "execution_count": 6,
   "metadata": {},
   "outputs": [
    {
     "name": "stdout",
     "output_type": "stream",
     "text": [
      "Devi\n"
     ]
    }
   ],
   "source": [
    "print(f\"{my_students[0].title()}\")"
   ]
  },
  {
   "cell_type": "code",
   "execution_count": null,
   "metadata": {},
   "outputs": [],
   "source": []
  },
  {
   "cell_type": "code",
   "execution_count": 14,
   "metadata": {},
   "outputs": [
    {
     "name": "stdout",
     "output_type": "stream",
     "text": [
      "devi\n",
      "rama\n",
      "raju\n",
      "abhi\n",
      "vijay\n",
      "satya\n",
      "malvika\n"
     ]
    }
   ],
   "source": [
    "for student in my_students:\n",
    "    print(student)"
   ]
  },
  {
   "cell_type": "code",
   "execution_count": 17,
   "metadata": {},
   "outputs": [
    {
     "name": "stdout",
     "output_type": "stream",
     "text": [
      "keep up the good work,Devi\n",
      "looking forward to see your files today,Devi \n",
      "keep up the good work,Rama\n",
      "looking forward to see your files today,Rama \n",
      "keep up the good work,Raju\n",
      "looking forward to see your files today,Raju \n",
      "keep up the good work,Abhi\n",
      "looking forward to see your files today,Abhi \n",
      "keep up the good work,Vijay\n",
      "looking forward to see your files today,Vijay \n",
      "keep up the good work,Satya\n",
      "looking forward to see your files today,Satya \n",
      "keep up the good work,Malvika\n",
      "looking forward to see your files today,Malvika \n"
     ]
    }
   ],
   "source": [
    "for x in my_students:\n",
    "    print(f\"keep up the good work,{x.title()}\")\n",
    "    print(f\"looking forward to see your files today,{x.title()} \")"
   ]
  },
  {
   "cell_type": "code",
   "execution_count": null,
   "metadata": {},
   "outputs": [],
   "source": []
  },
  {
   "cell_type": "code",
   "execution_count": null,
   "metadata": {},
   "outputs": [],
   "source": [
    "further enhancement "
   ]
  },
  {
   "cell_type": "code",
   "execution_count": null,
   "metadata": {},
   "outputs": [],
   "source": []
  },
  {
   "cell_type": "code",
   "execution_count": 19,
   "metadata": {},
   "outputs": [
    {
     "name": "stdout",
     "output_type": "stream",
     "text": [
      "keep up the good work,Devi\n",
      "looking forward to see your files today,Devi.\n",
      "\n",
      "keep up the good work,Rama\n",
      "looking forward to see your files today,Rama.\n",
      "\n",
      "keep up the good work,Raju\n",
      "looking forward to see your files today,Raju.\n",
      "\n",
      "keep up the good work,Abhi\n",
      "looking forward to see your files today,Abhi.\n",
      "\n",
      "keep up the good work,Vijay\n",
      "looking forward to see your files today,Vijay.\n",
      "\n",
      "keep up the good work,Satya\n",
      "looking forward to see your files today,Satya.\n",
      "\n",
      "keep up the good work,Malvika\n",
      "looking forward to see your files today,Malvika.\n",
      "\n"
     ]
    }
   ],
   "source": [
    "for x in my_students:\n",
    "    print(f\"keep up the good work,{x.title()}\")\n",
    "    print(f\"looking forward to see your files today,{x.title()}.\\n\")"
   ]
  },
  {
   "cell_type": "code",
   "execution_count": null,
   "metadata": {},
   "outputs": [],
   "source": []
  },
  {
   "cell_type": "code",
   "execution_count": 2,
   "metadata": {},
   "outputs": [],
   "source": [
    "cars=['audi','maruth','verna','bmw']"
   ]
  },
  {
   "cell_type": "code",
   "execution_count": 3,
   "metadata": {},
   "outputs": [
    {
     "name": "stdout",
     "output_type": "stream",
     "text": [
      "Audi\n",
      "Maruth\n",
      "Verna\n",
      "BMW\n"
     ]
    }
   ],
   "source": [
    "for car in cars:\n",
    "    if car ==\"bmw\":\n",
    "        print(car.upper())\n",
    "    else:\n",
    "        print(car.title())\n"
   ]
  },
  {
   "cell_type": "code",
   "execution_count": null,
   "metadata": {},
   "outputs": [],
   "source": []
  }
 ],
 "metadata": {
  "kernelspec": {
   "display_name": "Python 3",
   "language": "python",
   "name": "python3"
  },
  "language_info": {
   "codemirror_mode": {
    "name": "ipython",
    "version": 3
   },
   "file_extension": ".py",
   "mimetype": "text/x-python",
   "name": "python",
   "nbconvert_exporter": "python",
   "pygments_lexer": "ipython3",
   "version": "3.7.6"
  }
 },
 "nbformat": 4,
 "nbformat_minor": 4
}
